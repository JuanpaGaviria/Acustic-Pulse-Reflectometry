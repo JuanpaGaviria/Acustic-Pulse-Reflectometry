{
 "cells": [
  {
   "cell_type": "code",
   "execution_count": null,
   "metadata": {},
   "outputs": [],
   "source": [
    "import numpy as np\n",
    "import matplotlib.pyplot as plt"
   ]
  },
  {
   "cell_type": "code",
   "execution_count": null,
   "metadata": {},
   "outputs": [],
   "source": [
    "N = 45\n",
    "S = np.zeros(N+1) # Cross sectional areas\n",
    "D = np.zeros(N+1) # Diameters of each segment\n",
    "L = np.zeros(N) # Segment length\n",
    "Z = np.zeros(N+1) # Acoustic impedance of each segment\n",
    "Lp = 0.310 # Pipe length\n",
    "rho = 1.204 # air density 1.204 kg/m3 at 25º\n",
    "c = 343 # 343 m/s at 25º\n",
    "L[0:N] = Lp/N  # Segment length\n",
    "S1_length = 0.13 # Segment 1 length and position\n",
    "S2_length = 0.18 # Segment length\n",
    "S2_length = S1_length + S2_length # Segment length position\n",
    "S1_pos = int(np.round(S1_length*N/Lp)) \n",
    "S2_pos = int(np.round(S2_length*N/Lp))\n",
    "if not (type(S1_pos) and type(S2_pos)) is int:\n",
    "  raise TypeError(\"Only integers are allowed\")\n",
    "D[0:S1_pos] = 0.0062\n",
    "D[S1_pos:S2_pos+1] = 0.00945\n",
    "for i in range (0,N+1):\n",
    "    S[i]=np.pi*D[i]**2/4\n",
    "    Z[i]=rho*c/S[i]\n",
    "def iir(w):\n",
    "    M=[]#list of impedance matrices\n",
    "    for j in range (0,N):\n",
    "        Mi=np.zeros((2,2))\n",
    "        Mi[0,0]=(Z[j+1]+Z[j])/(2*Z[j+1])\n",
    "        Mi[0,1]=(Z[j+1]-Z[j])/(2*Z[j+1])\n",
    "        Mi[1,0]=(Z[j+1]-Z[j])/(2*Z[j+1])\n",
    "        Mi[1,1]=(Z[j+1]+Z[j])/(2*Z[j+1])\n",
    "        k=w/c\n",
    "        Mdelay=np.zeros((2,2),dtype=complex)\n",
    "        Mdelay[0,0]=np.exp(complex(0,k*L[j]))\n",
    "        Mdelay[1,1]=np.exp(complex(0,-k*L[j]))\n",
    "        M.append(np.matmul(Mi,Mdelay))\n",
    "    Mp=np.identity(2) #product matrix\n",
    "    for j in range(0,N):\n",
    "        Mp=np.matmul(Mp,M[j])\n",
    "        \n",
    "    ir=Mp[1,0]/Mp[0,0] #input impulse response simple case semi infinite endtube\n",
    "    return ir\n",
    "ndata=1000\n",
    "w=np.linspace(0,50,ndata)\n",
    "response=np.zeros(ndata,dtype=complex)\n",
    "for i in range (0,ndata):\n",
    "    response[i]=iir(w[i])\n",
    "ift=np.fft.ifft(response)\n",
    "\n",
    "\n",
    "plt.plot(w,response)\n",
    "plt.figure()\n",
    "plt.plot(np.real(ift))\n",
    "plt.figure()\n",
    "plt.plot(np.imag(ift))\n",
    "plt.figure()"
   ]
  },
  {
   "cell_type": "code",
   "execution_count": null,
   "metadata": {},
   "outputs": [],
   "source": [
    "plt.plot(w,response)\n",
    "plt.figure()\n",
    "plt.plot(np.real(ift[0:20]))\n",
    "plt.figure()\n",
    "plt.plot(np.imag(ift[0:30]))\n",
    "plt.figure()"
   ]
  },
  {
   "cell_type": "code",
   "execution_count": null,
   "metadata": {},
   "outputs": [],
   "source": [
    "N=2 #segments\n",
    "S=np.zeros(N+1) #cross sectional areas\n",
    "D=np.zeros(N+1) #Diameters of each segment\n",
    "L=np.zeros(N) #segment length\n",
    "Z=np.zeros(N+1) #Acoustic impedance of each segment\n",
    "Lp=1 #pipe length\n",
    "dx=Lp/N\n",
    "d=1 #density\n",
    "c=1 #acoustic wave velocity\n",
    "L[0:N]=dx\n",
    "D[0:2]=1e-2\n",
    "D[2:3]=2e-2\n",
    "for i in range (0,N+1):\n",
    "    S[i]=np.pi*D[i]**2/4\n",
    "    Z[i]=d*c/S[i]\n",
    "def iir(w):\n",
    "    M=[]#list of impedance matrices\n",
    "    for j in range (0,N):\n",
    "        Mi=np.zeros((2,2))\n",
    "        Mi[0,0]=(Z[j+1]+Z[j])/(2*Z[j+1])\n",
    "        Mi[0,1]=(Z[j+1]-Z[j])/(2*Z[j+1])\n",
    "        Mi[1,0]=(Z[j+1]-Z[j])/(2*Z[j+1])\n",
    "        Mi[1,1]=(Z[j+1]+Z[j])/(2*Z[j+1])\n",
    "        k=w/c\n",
    "        Mdelay=np.zeros((2,2),dtype=complex)\n",
    "        Mdelay[0,0]=np.exp(complex(0,k*L[j]))\n",
    "        Mdelay[1,1]=np.exp(complex(0,-k*L[j]))\n",
    "        M.append(np.matmul(Mi,Mdelay))\n",
    "    Mp=np.identity(2) #product matrix\n",
    "    for j in range(0,N):\n",
    "        Mp=np.matmul(Mp,M[j])\n",
    "        \n",
    "    ir=Mp[1,0]/Mp[0,0] #input impulse response simple case semi infinite endtube\n",
    "    return ir\n",
    "ndata=100\n",
    "w=np.linspace(0,60,ndata)\n",
    "response=np.zeros(ndata,dtype=complex)\n",
    "for i in range (0,ndata):\n",
    "    response[i]=iir(w[i])\n",
    "ift=np.fft.ifft(response)\n",
    "\n",
    "\n",
    "plt.plot(w,response)\n",
    "plt.figure()"
   ]
  },
  {
   "cell_type": "code",
   "execution_count": null,
   "metadata": {},
   "outputs": [],
   "source": [
    "# plt.plot(np.real(ift))\n",
    "plt.plot(np.imag(ift))"
   ]
  },
  {
   "cell_type": "code",
   "execution_count": null,
   "metadata": {},
   "outputs": [],
   "source": []
  },
  {
   "cell_type": "code",
   "execution_count": null,
   "metadata": {},
   "outputs": [],
   "source": []
  },
  {
   "cell_type": "code",
   "execution_count": null,
   "metadata": {},
   "outputs": [],
   "source": []
  }
 ],
 "metadata": {
  "kernelspec": {
   "display_name": "Python 3.9.6 64-bit",
   "language": "python",
   "name": "python3"
  },
  "language_info": {
   "codemirror_mode": {
    "name": "ipython",
    "version": 3
   },
   "file_extension": ".py",
   "mimetype": "text/x-python",
   "name": "python",
   "nbconvert_exporter": "python",
   "pygments_lexer": "ipython3",
   "version": "3.9.6"
  },
  "orig_nbformat": 4,
  "vscode": {
   "interpreter": {
    "hash": "44bb47aa75e5aacb1ac0452413b259b244a568a51e36635f4078d1f5f8a9f946"
   }
  }
 },
 "nbformat": 4,
 "nbformat_minor": 2
}
